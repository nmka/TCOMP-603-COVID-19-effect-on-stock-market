{
 "cells": [
  {
   "cell_type": "code",
   "execution_count": 1,
   "id": "41303a20",
   "metadata": {},
   "outputs": [
    {
     "name": "stdout",
     "output_type": "stream",
     "text": [
      "Requirement already satisfied: pandas in c:\\programdata\\anaconda3\\lib\\site-packages (1.3.4)\n",
      "Requirement already satisfied: python-dateutil>=2.7.3 in c:\\programdata\\anaconda3\\lib\\site-packages (from pandas) (2.8.2)\n",
      "Requirement already satisfied: numpy>=1.17.3 in c:\\programdata\\anaconda3\\lib\\site-packages (from pandas) (1.20.3)\n",
      "Requirement already satisfied: pytz>=2017.3 in c:\\programdata\\anaconda3\\lib\\site-packages (from pandas) (2021.3)\n",
      "Requirement already satisfied: six>=1.5 in c:\\programdata\\anaconda3\\lib\\site-packages (from python-dateutil>=2.7.3->pandas) (1.16.0)\n",
      "Note: you may need to restart the kernel to use updated packages.\n"
     ]
    },
    {
     "name": "stderr",
     "output_type": "stream",
     "text": [
      "WARNING: Ignoring invalid distribution -equests (c:\\programdata\\anaconda3\\lib\\site-packages)\n",
      "WARNING: Ignoring invalid distribution -equests (c:\\programdata\\anaconda3\\lib\\site-packages)\n",
      "WARNING: Ignoring invalid distribution -equests (c:\\programdata\\anaconda3\\lib\\site-packages)\n",
      "WARNING: Ignoring invalid distribution -equests (c:\\programdata\\anaconda3\\lib\\site-packages)\n",
      "WARNING: Ignoring invalid distribution -equests (c:\\programdata\\anaconda3\\lib\\site-packages)\n",
      "WARNING: Ignoring invalid distribution -equests (c:\\programdata\\anaconda3\\lib\\site-packages)\n"
     ]
    }
   ],
   "source": [
    "%pip install pandas\n",
    "\n",
    "\n"
   ]
  },
  {
   "cell_type": "code",
   "execution_count": 2,
   "id": "741c8a5c",
   "metadata": {},
   "outputs": [
    {
     "name": "stdout",
     "output_type": "stream",
     "text": [
      "Requirement already satisfied: matplotlib in c:\\programdata\\anaconda3\\lib\\site-packages (3.4.3)\n",
      "Requirement already satisfied: python-dateutil>=2.7 in c:\\programdata\\anaconda3\\lib\\site-packages (from matplotlib) (2.8.2)\n",
      "Requirement already satisfied: pyparsing>=2.2.1 in c:\\programdata\\anaconda3\\lib\\site-packages (from matplotlib) (3.0.4)\n",
      "Requirement already satisfied: kiwisolver>=1.0.1 in c:\\programdata\\anaconda3\\lib\\site-packages (from matplotlib) (1.3.1)\n",
      "Requirement already satisfied: cycler>=0.10 in c:\\programdata\\anaconda3\\lib\\site-packages (from matplotlib) (0.10.0)\n",
      "Requirement already satisfied: pillow>=6.2.0 in c:\\programdata\\anaconda3\\lib\\site-packages (from matplotlib) (8.4.0)\n",
      "Requirement already satisfied: numpy>=1.16 in c:\\programdata\\anaconda3\\lib\\site-packages (from matplotlib) (1.20.3)\n",
      "Requirement already satisfied: six in c:\\programdata\\anaconda3\\lib\\site-packages (from cycler>=0.10->matplotlib) (1.16.0)\n",
      "Note: you may need to restart the kernel to use updated packages.\n"
     ]
    },
    {
     "name": "stderr",
     "output_type": "stream",
     "text": [
      "WARNING: Ignoring invalid distribution -equests (c:\\programdata\\anaconda3\\lib\\site-packages)\n",
      "WARNING: Ignoring invalid distribution -equests (c:\\programdata\\anaconda3\\lib\\site-packages)\n",
      "WARNING: Ignoring invalid distribution -equests (c:\\programdata\\anaconda3\\lib\\site-packages)\n",
      "WARNING: Ignoring invalid distribution -equests (c:\\programdata\\anaconda3\\lib\\site-packages)\n",
      "WARNING: Ignoring invalid distribution -equests (c:\\programdata\\anaconda3\\lib\\site-packages)\n",
      "WARNING: Ignoring invalid distribution -equests (c:\\programdata\\anaconda3\\lib\\site-packages)\n"
     ]
    }
   ],
   "source": [
    "%pip install matplotlib"
   ]
  },
  {
   "cell_type": "code",
   "execution_count": 1,
   "id": "45bf6cb0",
   "metadata": {},
   "outputs": [],
   "source": [
    "import pandas as pd"
   ]
  },
  {
   "cell_type": "code",
   "execution_count": 2,
   "id": "8550d642",
   "metadata": {},
   "outputs": [
    {
     "data": {
      "text/html": [
       "<div>\n",
       "<style scoped>\n",
       "    .dataframe tbody tr th:only-of-type {\n",
       "        vertical-align: middle;\n",
       "    }\n",
       "\n",
       "    .dataframe tbody tr th {\n",
       "        vertical-align: top;\n",
       "    }\n",
       "\n",
       "    .dataframe thead th {\n",
       "        text-align: right;\n",
       "    }\n",
       "</style>\n",
       "<table border=\"1\" class=\"dataframe\">\n",
       "  <thead>\n",
       "    <tr style=\"text-align: right;\">\n",
       "      <th></th>\n",
       "      <th>Province/State</th>\n",
       "      <th>Country/Region</th>\n",
       "      <th>Lat</th>\n",
       "      <th>Long</th>\n",
       "      <th>1/22/20</th>\n",
       "      <th>1/23/20</th>\n",
       "      <th>1/24/20</th>\n",
       "      <th>1/25/20</th>\n",
       "      <th>1/26/20</th>\n",
       "      <th>1/27/20</th>\n",
       "      <th>...</th>\n",
       "      <th>4/14/22</th>\n",
       "      <th>4/15/22</th>\n",
       "      <th>4/16/22</th>\n",
       "      <th>4/17/22</th>\n",
       "      <th>4/18/22</th>\n",
       "      <th>4/19/22</th>\n",
       "      <th>4/20/22</th>\n",
       "      <th>4/21/22</th>\n",
       "      <th>4/22/22</th>\n",
       "      <th>4/23/22</th>\n",
       "    </tr>\n",
       "  </thead>\n",
       "  <tbody>\n",
       "    <tr>\n",
       "      <th>0</th>\n",
       "      <td>NaN</td>\n",
       "      <td>Afghanistan</td>\n",
       "      <td>33.93911</td>\n",
       "      <td>67.709953</td>\n",
       "      <td>0</td>\n",
       "      <td>0</td>\n",
       "      <td>0</td>\n",
       "      <td>0</td>\n",
       "      <td>0</td>\n",
       "      <td>0</td>\n",
       "      <td>...</td>\n",
       "      <td>178352</td>\n",
       "      <td>178373</td>\n",
       "      <td>178387</td>\n",
       "      <td>178418</td>\n",
       "      <td>178457</td>\n",
       "      <td>178513</td>\n",
       "      <td>178574</td>\n",
       "      <td>178611</td>\n",
       "      <td>178638</td>\n",
       "      <td>178648</td>\n",
       "    </tr>\n",
       "    <tr>\n",
       "      <th>1</th>\n",
       "      <td>NaN</td>\n",
       "      <td>Albania</td>\n",
       "      <td>41.15330</td>\n",
       "      <td>20.168300</td>\n",
       "      <td>0</td>\n",
       "      <td>0</td>\n",
       "      <td>0</td>\n",
       "      <td>0</td>\n",
       "      <td>0</td>\n",
       "      <td>0</td>\n",
       "      <td>...</td>\n",
       "      <td>274376</td>\n",
       "      <td>274429</td>\n",
       "      <td>274462</td>\n",
       "      <td>274504</td>\n",
       "      <td>274520</td>\n",
       "      <td>274535</td>\n",
       "      <td>274606</td>\n",
       "      <td>274606</td>\n",
       "      <td>274737</td>\n",
       "      <td>274791</td>\n",
       "    </tr>\n",
       "  </tbody>\n",
       "</table>\n",
       "<p>2 rows × 827 columns</p>\n",
       "</div>"
      ],
      "text/plain": [
       "  Province/State Country/Region       Lat       Long  1/22/20  1/23/20  \\\n",
       "0            NaN    Afghanistan  33.93911  67.709953        0        0   \n",
       "1            NaN        Albania  41.15330  20.168300        0        0   \n",
       "\n",
       "   1/24/20  1/25/20  1/26/20  1/27/20  ...  4/14/22  4/15/22  4/16/22  \\\n",
       "0        0        0        0        0  ...   178352   178373   178387   \n",
       "1        0        0        0        0  ...   274376   274429   274462   \n",
       "\n",
       "   4/17/22  4/18/22  4/19/22  4/20/22  4/21/22  4/22/22  4/23/22  \n",
       "0   178418   178457   178513   178574   178611   178638   178648  \n",
       "1   274504   274520   274535   274606   274606   274737   274791  \n",
       "\n",
       "[2 rows x 827 columns]"
      ]
     },
     "execution_count": 2,
     "metadata": {},
     "output_type": "execute_result"
    }
   ],
   "source": [
    "confirmed_df = pd.read_csv('sample_data/time_series_covid19_confirmed_global.csv')\n",
    "death_df = pd.read_csv('sample_data/time_series_covid19_deaths_global.csv')\n",
    "confirmed_df.head(2)"
   ]
  },
  {
   "cell_type": "markdown",
   "id": "0bd14ab5",
   "metadata": {},
   "source": [
    "Use pandas to create a dataframe that aggregates and sums both confirmed cases and deaths on a global level\n",
    "\n",
    "#Transforming the Date format from 1/2/20 to YYYY-MM-DD (2020-01-02)\n",
    " "
   ]
  },
  {
   "cell_type": "code",
   "execution_count": 4,
   "id": "2b017b47",
   "metadata": {},
   "outputs": [
    {
     "data": {
      "text/html": [
       "<div>\n",
       "<style scoped>\n",
       "    .dataframe tbody tr th:only-of-type {\n",
       "        vertical-align: middle;\n",
       "    }\n",
       "\n",
       "    .dataframe tbody tr th {\n",
       "        vertical-align: top;\n",
       "    }\n",
       "\n",
       "    .dataframe thead th {\n",
       "        text-align: right;\n",
       "    }\n",
       "</style>\n",
       "<table border=\"1\" class=\"dataframe\">\n",
       "  <thead>\n",
       "    <tr style=\"text-align: right;\">\n",
       "      <th></th>\n",
       "      <th>2020-01-22</th>\n",
       "      <th>2020-01-23</th>\n",
       "      <th>2020-01-24</th>\n",
       "      <th>2020-01-25</th>\n",
       "      <th>2020-01-26</th>\n",
       "      <th>2020-01-27</th>\n",
       "      <th>2020-01-28</th>\n",
       "      <th>2020-01-29</th>\n",
       "      <th>2020-01-30</th>\n",
       "      <th>2020-01-31</th>\n",
       "      <th>...</th>\n",
       "      <th>2022-04-14</th>\n",
       "      <th>2022-04-15</th>\n",
       "      <th>2022-04-16</th>\n",
       "      <th>2022-04-17</th>\n",
       "      <th>2022-04-18</th>\n",
       "      <th>2022-04-19</th>\n",
       "      <th>2022-04-20</th>\n",
       "      <th>2022-04-21</th>\n",
       "      <th>2022-04-22</th>\n",
       "      <th>2022-04-23</th>\n",
       "    </tr>\n",
       "  </thead>\n",
       "  <tbody>\n",
       "    <tr>\n",
       "      <th>Covid Confirmed</th>\n",
       "      <td>557</td>\n",
       "      <td>657</td>\n",
       "      <td>944</td>\n",
       "      <td>1437</td>\n",
       "      <td>2120</td>\n",
       "      <td>2929</td>\n",
       "      <td>5580</td>\n",
       "      <td>6169</td>\n",
       "      <td>8237</td>\n",
       "      <td>9927</td>\n",
       "      <td>...</td>\n",
       "      <td>502932802</td>\n",
       "      <td>503645731</td>\n",
       "      <td>504198041</td>\n",
       "      <td>504619899</td>\n",
       "      <td>505089291</td>\n",
       "      <td>506082451</td>\n",
       "      <td>507046645</td>\n",
       "      <td>507947338</td>\n",
       "      <td>508708884</td>\n",
       "      <td>509196481</td>\n",
       "    </tr>\n",
       "    <tr>\n",
       "      <th>Covid Death</th>\n",
       "      <td>17</td>\n",
       "      <td>18</td>\n",
       "      <td>26</td>\n",
       "      <td>42</td>\n",
       "      <td>56</td>\n",
       "      <td>82</td>\n",
       "      <td>131</td>\n",
       "      <td>133</td>\n",
       "      <td>171</td>\n",
       "      <td>213</td>\n",
       "      <td>...</td>\n",
       "      <td>6193401</td>\n",
       "      <td>6195670</td>\n",
       "      <td>6197182</td>\n",
       "      <td>6198487</td>\n",
       "      <td>6199914</td>\n",
       "      <td>6203317</td>\n",
       "      <td>6207815</td>\n",
       "      <td>6211981</td>\n",
       "      <td>6215610</td>\n",
       "      <td>6217046</td>\n",
       "    </tr>\n",
       "  </tbody>\n",
       "</table>\n",
       "<p>2 rows × 823 columns</p>\n",
       "</div>"
      ],
      "text/plain": [
       "                 2020-01-22  2020-01-23  2020-01-24  2020-01-25  2020-01-26  \\\n",
       "Covid Confirmed         557         657         944        1437        2120   \n",
       "Covid Death              17          18          26          42          56   \n",
       "\n",
       "                 2020-01-27  2020-01-28  2020-01-29  2020-01-30  2020-01-31  \\\n",
       "Covid Confirmed        2929        5580        6169        8237        9927   \n",
       "Covid Death              82         131         133         171         213   \n",
       "\n",
       "                 ...  2022-04-14  2022-04-15  2022-04-16  2022-04-17  \\\n",
       "Covid Confirmed  ...   502932802   503645731   504198041   504619899   \n",
       "Covid Death      ...     6193401     6195670     6197182     6198487   \n",
       "\n",
       "                 2022-04-18  2022-04-19  2022-04-20  2022-04-21  2022-04-22  \\\n",
       "Covid Confirmed   505089291   506082451   507046645   507947338   508708884   \n",
       "Covid Death         6199914     6203317     6207815     6211981     6215610   \n",
       "\n",
       "                 2022-04-23  \n",
       "Covid Confirmed   509196481  \n",
       "Covid Death         6217046  \n",
       "\n",
       "[2 rows x 823 columns]"
      ]
     },
     "execution_count": 4,
     "metadata": {},
     "output_type": "execute_result"
    }
   ],
   "source": [
    "total_confirmed= confirmed_df.iloc[:, 4:].sum(axis=0)\n",
    "total_death= death_df.iloc[:, 4:].sum(axis=0)\n",
    "\n",
    "frame = { 'Covid Confirmed': total_confirmed, 'Covid Death': total_death }\n",
    "aggregated_df = pd.DataFrame(frame )\n",
    "\n",
    "as_list = aggregated_df.index.tolist()\n",
    "new_list = []\n",
    "for i in as_list:\n",
    "    nums = i.split('/')\n",
    "    month_leading_zero='0'\n",
    "    if(int(nums[0]) > 9): month_leading_zero = ''\n",
    "\n",
    "    day_leading_zero='0'\n",
    "    if(int(nums[1]) > 9): day_leading_zero = ''\n",
    "\n",
    "    new_list.append('20'+nums[2]+'-'+month_leading_zero+''+nums[0]+'-'+day_leading_zero+nums[1])\n",
    "\n",
    "aggregated_df.index = new_list\n",
    "aggregated_df = aggregated_df.transpose()\n",
    "aggregated_df.head(5)"
   ]
  },
  {
   "cell_type": "markdown",
   "id": "73f6999e",
   "metadata": {},
   "source": [
    "Alpha Vantage! API key: 91MNBSNGPV50MFCO. "
   ]
  },
  {
   "cell_type": "code",
   "execution_count": 5,
   "id": "ce2599da",
   "metadata": {},
   "outputs": [
    {
     "name": "stdout",
     "output_type": "stream",
     "text": [
      "Requirement already satisfied: alpha_vantage in c:\\programdata\\anaconda3\\lib\\site-packages (2.3.1)\n",
      "Requirement already satisfied: requests in c:\\users\\rohit\\appdata\\roaming\\python\\python39\\site-packages (from alpha_vantage) (2.27.1)\n",
      "Requirement already satisfied: aiohttp in c:\\programdata\\anaconda3\\lib\\site-packages (from alpha_vantage) (3.8.1)\n",
      "Requirement already satisfied: async-timeout<5.0,>=4.0.0a3 in c:\\programdata\\anaconda3\\lib\\site-packages (from aiohttp->alpha_vantage) (4.0.2)\n",
      "Requirement already satisfied: charset-normalizer<3.0,>=2.0 in c:\\programdata\\anaconda3\\lib\\site-packages (from aiohttp->alpha_vantage) (2.0.4)\n",
      "Requirement already satisfied: aiosignal>=1.1.2 in c:\\programdata\\anaconda3\\lib\\site-packages (from aiohttp->alpha_vantage) (1.2.0)\n",
      "Requirement already satisfied: attrs>=17.3.0 in c:\\programdata\\anaconda3\\lib\\site-packages (from aiohttp->alpha_vantage) (21.2.0)\n",
      "Requirement already satisfied: multidict<7.0,>=4.5 in c:\\programdata\\anaconda3\\lib\\site-packages (from aiohttp->alpha_vantage) (6.0.2)\n",
      "Requirement already satisfied: yarl<2.0,>=1.0 in c:\\programdata\\anaconda3\\lib\\site-packages (from aiohttp->alpha_vantage) (1.7.2)\n",
      "Requirement already satisfied: frozenlist>=1.1.1 in c:\\programdata\\anaconda3\\lib\\site-packages (from aiohttp->alpha_vantage) (1.3.0)\n",
      "Requirement already satisfied: idna>=2.0 in c:\\programdata\\anaconda3\\lib\\site-packages (from yarl<2.0,>=1.0->aiohttp->alpha_vantage) (3.2)\n",
      "Requirement already satisfied: certifi>=2017.4.17 in c:\\programdata\\anaconda3\\lib\\site-packages (from requests->alpha_vantage) (2021.10.8)\n",
      "Requirement already satisfied: urllib3<1.27,>=1.21.1 in c:\\programdata\\anaconda3\\lib\\site-packages (from requests->alpha_vantage) (1.26.7)\n",
      "Note: you may need to restart the kernel to use updated packages.\n"
     ]
    },
    {
     "name": "stderr",
     "output_type": "stream",
     "text": [
      "WARNING: Ignoring invalid distribution -equests (c:\\programdata\\anaconda3\\lib\\site-packages)\n",
      "WARNING: Ignoring invalid distribution -equests (c:\\programdata\\anaconda3\\lib\\site-packages)\n",
      "WARNING: Ignoring invalid distribution -equests (c:\\programdata\\anaconda3\\lib\\site-packages)\n",
      "WARNING: Ignoring invalid distribution -equests (c:\\programdata\\anaconda3\\lib\\site-packages)\n",
      "WARNING: Ignoring invalid distribution -equests (c:\\programdata\\anaconda3\\lib\\site-packages)\n",
      "WARNING: Ignoring invalid distribution -equests (c:\\programdata\\anaconda3\\lib\\site-packages)\n"
     ]
    }
   ],
   "source": [
    "%pip install alpha_vantage"
   ]
  },
  {
   "cell_type": "code",
   "execution_count": 7,
   "id": "16514fc8",
   "metadata": {},
   "outputs": [],
   "source": [
    "from alpha_vantage.timeseries import TimeSeries\n",
    "# ts = TimeSeries(key='91MNBSNGPV50MFCO')\n",
    "# \n",
    "ts = TimeSeries(key='ED7TWFSOZVK81POS')\n",
    "# Get json object with the intraday data and another with  the call's metadata\n"
   ]
  },
  {
   "cell_type": "code",
   "execution_count": 8,
   "id": "de7c3d6c",
   "metadata": {},
   "outputs": [],
   "source": [
    "# series = pd.read_json(data, typ='series', orient='records')\n",
    "# print(series)\n",
    "# Google - Googl - American\n",
    "data1, meta_data1 = ts.get_daily(symbol='GOOGL',outputsize='full')\n",
    "# Royal Bank Canada Aka RBC - TSE - Canadian\n",
    "data2, meta_data2 = ts.get_daily(symbol='TSE',outputsize='full')\n",
    "# AirBnb - ABNB - Travel Sector\n",
    "data3, meta_data3 = ts.get_daily(symbol='ABNB',outputsize='full')\n",
    "# Annaly Capital Management Inc. - NLY - Real estate\n",
    "data4, meta_data4 = ts.get_daily(symbol='NLY',outputsize='full')\n",
    "# Gold - AU - Metal\n",
    "data5, meta_data5 = ts.get_daily(symbol='AU',outputsize='full')"
   ]
  },
  {
   "cell_type": "markdown",
   "id": "c6251117",
   "metadata": {},
   "source": [
    "#Filling the NAN values of stocks with previous date values."
   ]
  },
  {
   "cell_type": "code",
   "execution_count": 9,
   "id": "fffc465e",
   "metadata": {},
   "outputs": [
    {
     "data": {
      "text/html": [
       "<div>\n",
       "<style scoped>\n",
       "    .dataframe tbody tr th:only-of-type {\n",
       "        vertical-align: middle;\n",
       "    }\n",
       "\n",
       "    .dataframe tbody tr th {\n",
       "        vertical-align: top;\n",
       "    }\n",
       "\n",
       "    .dataframe thead th {\n",
       "        text-align: right;\n",
       "    }\n",
       "</style>\n",
       "<table border=\"1\" class=\"dataframe\">\n",
       "  <thead>\n",
       "    <tr style=\"text-align: right;\">\n",
       "      <th></th>\n",
       "      <th>2022-04-25</th>\n",
       "      <th>2022-04-22</th>\n",
       "      <th>2022-04-21</th>\n",
       "      <th>2022-04-20</th>\n",
       "      <th>2022-04-19</th>\n",
       "      <th>2022-04-18</th>\n",
       "      <th>2022-04-14</th>\n",
       "      <th>2022-04-13</th>\n",
       "      <th>2022-04-12</th>\n",
       "      <th>2022-04-11</th>\n",
       "      <th>...</th>\n",
       "      <th>1999-11-12</th>\n",
       "      <th>1999-11-11</th>\n",
       "      <th>1999-11-10</th>\n",
       "      <th>1999-11-09</th>\n",
       "      <th>1999-11-08</th>\n",
       "      <th>1999-11-05</th>\n",
       "      <th>1999-11-04</th>\n",
       "      <th>1999-11-03</th>\n",
       "      <th>1999-11-02</th>\n",
       "      <th>1999-11-01</th>\n",
       "    </tr>\n",
       "  </thead>\n",
       "  <tbody>\n",
       "    <tr>\n",
       "      <th>1. open</th>\n",
       "      <td>20.2100</td>\n",
       "      <td>21.3800</td>\n",
       "      <td>22.3000</td>\n",
       "      <td>22.3200</td>\n",
       "      <td>23.9000</td>\n",
       "      <td>24.1100</td>\n",
       "      <td>23.5100</td>\n",
       "      <td>23.8000</td>\n",
       "      <td>23.9300</td>\n",
       "      <td>24.4000</td>\n",
       "      <td>...</td>\n",
       "      <td>28.5000</td>\n",
       "      <td>28.9400</td>\n",
       "      <td>28.6300</td>\n",
       "      <td>28.1300</td>\n",
       "      <td>28.1900</td>\n",
       "      <td>28.8100</td>\n",
       "      <td>28.0600</td>\n",
       "      <td>27.3800</td>\n",
       "      <td>27.0600</td>\n",
       "      <td>27.5600</td>\n",
       "    </tr>\n",
       "    <tr>\n",
       "      <th>2. high</th>\n",
       "      <td>20.7100</td>\n",
       "      <td>21.7400</td>\n",
       "      <td>22.3000</td>\n",
       "      <td>22.7700</td>\n",
       "      <td>23.9900</td>\n",
       "      <td>24.9700</td>\n",
       "      <td>23.7300</td>\n",
       "      <td>24.1450</td>\n",
       "      <td>24.2300</td>\n",
       "      <td>24.4100</td>\n",
       "      <td>...</td>\n",
       "      <td>28.8800</td>\n",
       "      <td>28.9400</td>\n",
       "      <td>29.1900</td>\n",
       "      <td>28.9400</td>\n",
       "      <td>28.4400</td>\n",
       "      <td>28.9400</td>\n",
       "      <td>28.3800</td>\n",
       "      <td>28.0000</td>\n",
       "      <td>27.3100</td>\n",
       "      <td>27.5600</td>\n",
       "    </tr>\n",
       "    <tr>\n",
       "      <th>3. low</th>\n",
       "      <td>19.9200</td>\n",
       "      <td>20.9000</td>\n",
       "      <td>21.4700</td>\n",
       "      <td>22.0700</td>\n",
       "      <td>22.3500</td>\n",
       "      <td>23.9400</td>\n",
       "      <td>23.1563</td>\n",
       "      <td>23.5700</td>\n",
       "      <td>23.2200</td>\n",
       "      <td>22.8450</td>\n",
       "      <td>...</td>\n",
       "      <td>28.3800</td>\n",
       "      <td>28.6900</td>\n",
       "      <td>28.6300</td>\n",
       "      <td>27.6300</td>\n",
       "      <td>27.9400</td>\n",
       "      <td>28.5000</td>\n",
       "      <td>28.0000</td>\n",
       "      <td>27.3100</td>\n",
       "      <td>27.0000</td>\n",
       "      <td>26.8800</td>\n",
       "    </tr>\n",
       "    <tr>\n",
       "      <th>4. close</th>\n",
       "      <td>20.4200</td>\n",
       "      <td>21.1700</td>\n",
       "      <td>21.7700</td>\n",
       "      <td>22.6900</td>\n",
       "      <td>22.5700</td>\n",
       "      <td>24.3000</td>\n",
       "      <td>23.6800</td>\n",
       "      <td>23.8900</td>\n",
       "      <td>23.5800</td>\n",
       "      <td>23.1200</td>\n",
       "      <td>...</td>\n",
       "      <td>28.6300</td>\n",
       "      <td>28.7500</td>\n",
       "      <td>29.1300</td>\n",
       "      <td>28.6300</td>\n",
       "      <td>28.3800</td>\n",
       "      <td>28.6300</td>\n",
       "      <td>28.2500</td>\n",
       "      <td>27.5600</td>\n",
       "      <td>27.3100</td>\n",
       "      <td>27.0000</td>\n",
       "    </tr>\n",
       "    <tr>\n",
       "      <th>5. volume</th>\n",
       "      <td>2901399</td>\n",
       "      <td>2607946</td>\n",
       "      <td>2659717</td>\n",
       "      <td>2177515</td>\n",
       "      <td>3747691</td>\n",
       "      <td>2725169</td>\n",
       "      <td>2515974</td>\n",
       "      <td>1752183</td>\n",
       "      <td>2644686</td>\n",
       "      <td>3360571</td>\n",
       "      <td>...</td>\n",
       "      <td>121700</td>\n",
       "      <td>155600</td>\n",
       "      <td>426400</td>\n",
       "      <td>267600</td>\n",
       "      <td>224600</td>\n",
       "      <td>328100</td>\n",
       "      <td>133300</td>\n",
       "      <td>190600</td>\n",
       "      <td>420700</td>\n",
       "      <td>247600</td>\n",
       "    </tr>\n",
       "  </tbody>\n",
       "</table>\n",
       "<p>5 rows × 5657 columns</p>\n",
       "</div>"
      ],
      "text/plain": [
       "          2022-04-25 2022-04-22 2022-04-21 2022-04-20 2022-04-19 2022-04-18  \\\n",
       "1. open      20.2100    21.3800    22.3000    22.3200    23.9000    24.1100   \n",
       "2. high      20.7100    21.7400    22.3000    22.7700    23.9900    24.9700   \n",
       "3. low       19.9200    20.9000    21.4700    22.0700    22.3500    23.9400   \n",
       "4. close     20.4200    21.1700    21.7700    22.6900    22.5700    24.3000   \n",
       "5. volume    2901399    2607946    2659717    2177515    3747691    2725169   \n",
       "\n",
       "          2022-04-14 2022-04-13 2022-04-12 2022-04-11  ... 1999-11-12  \\\n",
       "1. open      23.5100    23.8000    23.9300    24.4000  ...    28.5000   \n",
       "2. high      23.7300    24.1450    24.2300    24.4100  ...    28.8800   \n",
       "3. low       23.1563    23.5700    23.2200    22.8450  ...    28.3800   \n",
       "4. close     23.6800    23.8900    23.5800    23.1200  ...    28.6300   \n",
       "5. volume    2515974    1752183    2644686    3360571  ...     121700   \n",
       "\n",
       "          1999-11-11 1999-11-10 1999-11-09 1999-11-08 1999-11-05 1999-11-04  \\\n",
       "1. open      28.9400    28.6300    28.1300    28.1900    28.8100    28.0600   \n",
       "2. high      28.9400    29.1900    28.9400    28.4400    28.9400    28.3800   \n",
       "3. low       28.6900    28.6300    27.6300    27.9400    28.5000    28.0000   \n",
       "4. close     28.7500    29.1300    28.6300    28.3800    28.6300    28.2500   \n",
       "5. volume     155600     426400     267600     224600     328100     133300   \n",
       "\n",
       "          1999-11-03 1999-11-02 1999-11-01  \n",
       "1. open      27.3800    27.0600    27.5600  \n",
       "2. high      28.0000    27.3100    27.5600  \n",
       "3. low       27.3100    27.0000    26.8800  \n",
       "4. close     27.5600    27.3100    27.0000  \n",
       "5. volume     190600     420700     247600  \n",
       "\n",
       "[5 rows x 5657 columns]"
      ]
     },
     "execution_count": 9,
     "metadata": {},
     "output_type": "execute_result"
    }
   ],
   "source": [
    "google_df = pd.DataFrame(data1)\n",
    "google_df = google_df.ffill()\n",
    "\n",
    "rbc_df = pd.DataFrame(data2)\n",
    "rbc_df = rbc_df.ffill()\n",
    "\n",
    "airbnb_df =pd.DataFrame(data3)\n",
    "airbnb_df = airbnb_df.ffill()\n",
    "\n",
    "nly_df = pd.DataFrame(data4)\n",
    "nly_df = nly_df.ffill()\n",
    "\n",
    "gold_df = pd.DataFrame(data5)\n",
    "gold_df = gold_df.ffill()\n",
    "gold_df.head(5)"
   ]
  },
  {
   "cell_type": "markdown",
   "id": "055cc793",
   "metadata": {},
   "source": [
    "# Combining the data in order to align data according to time series"
   ]
  },
  {
   "cell_type": "code",
   "execution_count": 11,
   "id": "42c65dda",
   "metadata": {},
   "outputs": [
    {
     "data": {
      "text/html": [
       "<div>\n",
       "<style scoped>\n",
       "    .dataframe tbody tr th:only-of-type {\n",
       "        vertical-align: middle;\n",
       "    }\n",
       "\n",
       "    .dataframe tbody tr th {\n",
       "        vertical-align: top;\n",
       "    }\n",
       "\n",
       "    .dataframe thead th {\n",
       "        text-align: right;\n",
       "    }\n",
       "</style>\n",
       "<table border=\"1\" class=\"dataframe\">\n",
       "  <thead>\n",
       "    <tr style=\"text-align: right;\">\n",
       "      <th></th>\n",
       "      <th>Covid Confirmed</th>\n",
       "      <th>Covid Death</th>\n",
       "      <th>American high</th>\n",
       "      <th>American low</th>\n",
       "      <th>Canadian high</th>\n",
       "      <th>Canadian low</th>\n",
       "      <th>Travel high</th>\n",
       "      <th>Travel low</th>\n",
       "      <th>Real Estate high</th>\n",
       "      <th>Real Estate  low</th>\n",
       "      <th>Metal high</th>\n",
       "      <th>Metal low</th>\n",
       "    </tr>\n",
       "  </thead>\n",
       "  <tbody>\n",
       "    <tr>\n",
       "      <th>2020-12-10</th>\n",
       "      <td>70543163.0</td>\n",
       "      <td>1638408.0</td>\n",
       "      <td>1774.99</td>\n",
       "      <td>1733.5270</td>\n",
       "      <td>44.4200</td>\n",
       "      <td>43.1600</td>\n",
       "      <td>165.0</td>\n",
       "      <td>141.2500</td>\n",
       "      <td>8.27</td>\n",
       "      <td>8.1500</td>\n",
       "      <td>22.070</td>\n",
       "      <td>21.2200</td>\n",
       "    </tr>\n",
       "    <tr>\n",
       "      <th>2020-12-11</th>\n",
       "      <td>70543163.0</td>\n",
       "      <td>1638408.0</td>\n",
       "      <td>1774.99</td>\n",
       "      <td>1733.5270</td>\n",
       "      <td>44.4200</td>\n",
       "      <td>43.1600</td>\n",
       "      <td>165.0</td>\n",
       "      <td>141.2500</td>\n",
       "      <td>8.28</td>\n",
       "      <td>8.2000</td>\n",
       "      <td>22.070</td>\n",
       "      <td>21.2200</td>\n",
       "    </tr>\n",
       "    <tr>\n",
       "      <th>2020-12-11</th>\n",
       "      <td>71251411.0</td>\n",
       "      <td>1651556.0</td>\n",
       "      <td>1774.99</td>\n",
       "      <td>1733.5270</td>\n",
       "      <td>44.4200</td>\n",
       "      <td>43.1600</td>\n",
       "      <td>165.0</td>\n",
       "      <td>141.2500</td>\n",
       "      <td>8.28</td>\n",
       "      <td>8.2000</td>\n",
       "      <td>22.070</td>\n",
       "      <td>21.2200</td>\n",
       "    </tr>\n",
       "    <tr>\n",
       "      <th>2020-12-11</th>\n",
       "      <td>71251411.0</td>\n",
       "      <td>1651556.0</td>\n",
       "      <td>1774.99</td>\n",
       "      <td>1733.5270</td>\n",
       "      <td>44.4200</td>\n",
       "      <td>43.1600</td>\n",
       "      <td>165.0</td>\n",
       "      <td>141.2500</td>\n",
       "      <td>8.28</td>\n",
       "      <td>8.2000</td>\n",
       "      <td>21.675</td>\n",
       "      <td>21.2800</td>\n",
       "    </tr>\n",
       "    <tr>\n",
       "      <th>2020-12-11</th>\n",
       "      <td>71251411.0</td>\n",
       "      <td>1651556.0</td>\n",
       "      <td>1777.31</td>\n",
       "      <td>1752.7400</td>\n",
       "      <td>44.4200</td>\n",
       "      <td>43.1600</td>\n",
       "      <td>165.0</td>\n",
       "      <td>141.2500</td>\n",
       "      <td>8.28</td>\n",
       "      <td>8.2000</td>\n",
       "      <td>21.675</td>\n",
       "      <td>21.2800</td>\n",
       "    </tr>\n",
       "    <tr>\n",
       "      <th>2020-12-11</th>\n",
       "      <td>71251411.0</td>\n",
       "      <td>1651556.0</td>\n",
       "      <td>1777.31</td>\n",
       "      <td>1752.7400</td>\n",
       "      <td>44.4200</td>\n",
       "      <td>43.1600</td>\n",
       "      <td>151.5</td>\n",
       "      <td>135.1000</td>\n",
       "      <td>8.28</td>\n",
       "      <td>8.2000</td>\n",
       "      <td>21.675</td>\n",
       "      <td>21.2800</td>\n",
       "    </tr>\n",
       "    <tr>\n",
       "      <th>2020-12-11</th>\n",
       "      <td>71251411.0</td>\n",
       "      <td>1651556.0</td>\n",
       "      <td>1777.31</td>\n",
       "      <td>1752.7400</td>\n",
       "      <td>43.7325</td>\n",
       "      <td>42.5600</td>\n",
       "      <td>151.5</td>\n",
       "      <td>135.1000</td>\n",
       "      <td>8.28</td>\n",
       "      <td>8.2000</td>\n",
       "      <td>21.675</td>\n",
       "      <td>21.2800</td>\n",
       "    </tr>\n",
       "    <tr>\n",
       "      <th>2020-12-12</th>\n",
       "      <td>71901617.0</td>\n",
       "      <td>1662469.0</td>\n",
       "      <td>1777.31</td>\n",
       "      <td>1752.7400</td>\n",
       "      <td>43.7325</td>\n",
       "      <td>42.5600</td>\n",
       "      <td>151.5</td>\n",
       "      <td>135.1000</td>\n",
       "      <td>8.28</td>\n",
       "      <td>8.2000</td>\n",
       "      <td>21.675</td>\n",
       "      <td>21.2800</td>\n",
       "    </tr>\n",
       "    <tr>\n",
       "      <th>2020-12-13</th>\n",
       "      <td>72441105.0</td>\n",
       "      <td>1670406.0</td>\n",
       "      <td>1777.31</td>\n",
       "      <td>1752.7400</td>\n",
       "      <td>43.7325</td>\n",
       "      <td>42.5600</td>\n",
       "      <td>151.5</td>\n",
       "      <td>135.1000</td>\n",
       "      <td>8.28</td>\n",
       "      <td>8.2000</td>\n",
       "      <td>21.675</td>\n",
       "      <td>21.2800</td>\n",
       "    </tr>\n",
       "    <tr>\n",
       "      <th>2020-12-14</th>\n",
       "      <td>72441105.0</td>\n",
       "      <td>1670406.0</td>\n",
       "      <td>1777.31</td>\n",
       "      <td>1752.7400</td>\n",
       "      <td>43.7325</td>\n",
       "      <td>42.5600</td>\n",
       "      <td>151.5</td>\n",
       "      <td>135.1000</td>\n",
       "      <td>8.35</td>\n",
       "      <td>8.2200</td>\n",
       "      <td>21.675</td>\n",
       "      <td>21.2800</td>\n",
       "    </tr>\n",
       "  </tbody>\n",
       "</table>\n",
       "</div>"
      ],
      "text/plain": [
       "            Covid Confirmed  Covid Death  American high American low  \\\n",
       "2020-12-10       70543163.0    1638408.0        1774.99    1733.5270   \n",
       "2020-12-11       70543163.0    1638408.0        1774.99    1733.5270   \n",
       "2020-12-11       71251411.0    1651556.0        1774.99    1733.5270   \n",
       "2020-12-11       71251411.0    1651556.0        1774.99    1733.5270   \n",
       "2020-12-11       71251411.0    1651556.0        1777.31    1752.7400   \n",
       "2020-12-11       71251411.0    1651556.0        1777.31    1752.7400   \n",
       "2020-12-11       71251411.0    1651556.0        1777.31    1752.7400   \n",
       "2020-12-12       71901617.0    1662469.0        1777.31    1752.7400   \n",
       "2020-12-13       72441105.0    1670406.0        1777.31    1752.7400   \n",
       "2020-12-14       72441105.0    1670406.0        1777.31    1752.7400   \n",
       "\n",
       "            Canadian high Canadian low  Travel high Travel low  \\\n",
       "2020-12-10        44.4200      43.1600        165.0   141.2500   \n",
       "2020-12-11        44.4200      43.1600        165.0   141.2500   \n",
       "2020-12-11        44.4200      43.1600        165.0   141.2500   \n",
       "2020-12-11        44.4200      43.1600        165.0   141.2500   \n",
       "2020-12-11        44.4200      43.1600        165.0   141.2500   \n",
       "2020-12-11        44.4200      43.1600        151.5   135.1000   \n",
       "2020-12-11        43.7325      42.5600        151.5   135.1000   \n",
       "2020-12-12        43.7325      42.5600        151.5   135.1000   \n",
       "2020-12-13        43.7325      42.5600        151.5   135.1000   \n",
       "2020-12-14        43.7325      42.5600        151.5   135.1000   \n",
       "\n",
       "            Real Estate high Real Estate  low  Metal high Metal low  \n",
       "2020-12-10              8.27           8.1500      22.070   21.2200  \n",
       "2020-12-11              8.28           8.2000      22.070   21.2200  \n",
       "2020-12-11              8.28           8.2000      22.070   21.2200  \n",
       "2020-12-11              8.28           8.2000      21.675   21.2800  \n",
       "2020-12-11              8.28           8.2000      21.675   21.2800  \n",
       "2020-12-11              8.28           8.2000      21.675   21.2800  \n",
       "2020-12-11              8.28           8.2000      21.675   21.2800  \n",
       "2020-12-12              8.28           8.2000      21.675   21.2800  \n",
       "2020-12-13              8.28           8.2000      21.675   21.2800  \n",
       "2020-12-14              8.35           8.2200      21.675   21.2800  "
      ]
     },
     "execution_count": 11,
     "metadata": {},
     "output_type": "execute_result"
    }
   ],
   "source": [
    "# print(aggregated_df.head(2))\n",
    "def delete(transposed_df):\n",
    "  return transposed_df.drop(columns=['1. open','2. high','3. low','4. close','5. volume'])\n",
    "# print(google_df.loc('2. high'))\n",
    "transposed_df= aggregated_df.transpose()\n",
    "# American\n",
    "transposed_df = transposed_df.append(google_df.transpose())\n",
    "transposed_df['American high'] = transposed_df['2. high']\n",
    "transposed_df['American low'] = transposed_df['3. low']\n",
    "transposed_df = delete(transposed_df)\n",
    "# Canadian\n",
    "transposed_df = transposed_df.append(rbc_df.transpose())\n",
    "transposed_df['Canadian high'] = transposed_df['2. high']\n",
    "transposed_df['Canadian low'] = transposed_df['3. low']\n",
    "transposed_df = delete(transposed_df)\n",
    "#  Travel\n",
    "transposed_df = transposed_df.append(airbnb_df.transpose())\n",
    "transposed_df['Travel high'] = transposed_df['2. high']\n",
    "transposed_df['Travel low'] = transposed_df['3. low']\n",
    "transposed_df = delete(transposed_df)\n",
    "#  Real Estate\n",
    "transposed_df = transposed_df.append(nly_df.transpose())\n",
    "transposed_df['Real Estate high'] = transposed_df['2. high']\n",
    "transposed_df['Real Estate  low'] = transposed_df['3. low']\n",
    "transposed_df = delete(transposed_df)\n",
    "# Metal gold_df\n",
    "transposed_df = transposed_df.append(gold_df.transpose())\n",
    "transposed_df['Metal high'] = transposed_df['2. high']\n",
    "transposed_df['Metal low'] = transposed_df['3. low']\n",
    "# \n",
    "transposed_df = delete(transposed_df)\n",
    "transposed_df = transposed_df.sort_index()\n",
    "transposed_df=transposed_df.ffill(axis=0)\n",
    "\n",
    "# Cleansing the data for COVID NaN values \n",
    "transposed_df = transposed_df.dropna()\n",
    "\n",
    "#\n",
    "transposed_df['American high'] = transposed_df['American high'].astype(float)\n",
    "transposed_df['Canadian high'] = transposed_df['Canadian high'].astype(float) \n",
    "transposed_df['Travel high'] = transposed_df['Travel high'].astype(float) \n",
    "transposed_df['Real Estate high'] = transposed_df['Real Estate high'].astype(float) \n",
    "transposed_df['Metal high'] = transposed_df['Metal high'].astype(float) \n",
    "\n",
    "transposed_df.head(10)"
   ]
  },
  {
   "cell_type": "markdown",
   "id": "c94b3439",
   "metadata": {},
   "source": [
    "# Visualization of the Data\n"
   ]
  },
  {
   "cell_type": "code",
   "execution_count": 12,
   "id": "36016560",
   "metadata": {},
   "outputs": [
    {
     "data": {
      "image/png": "[encoded data removed]",
      "text/plain": [
       "<Figure size 432x288 with 1 Axes>"
      ]
     },
     "metadata": {
      "needs_background": "light"
     },
     "output_type": "display_data"
    }
   ],
   "source": [
    "#The plot below shows a positive collinearity between number of cases and deaths with respect to time. \n",
    "#The number of cases increases as well as number of deaths(in larger numbers) with respect to time.\n",
    "\n",
    "import matplotlib.pyplot as plt\n",
    "graph_df = transposed_df\n",
    "\n",
    "graph_df['Metal high'].describe() \n",
    "graph_df['Covid Confirmed'].describe() \n",
    "\n",
    "graph_df['Covid Confirmed'].plot()\n",
    "graph_df['Covid Death'].plot()\n",
    "\n",
    "\n",
    "plt.subplot()\n",
    "plt.rcParams[\"figure.autolayout\"] = True\n"
   ]
  },
  {
   "cell_type": "code",
   "execution_count": 13,
   "id": "f9be7878",
   "metadata": {},
   "outputs": [
    {
     "name": "stdout",
     "output_type": "stream",
     "text": [
      "Index(['2020-12-10', '2020-12-11', '2020-12-11', '2020-12-11', '2020-12-11',\n",
      "       '2020-12-11', '2020-12-11', '2020-12-12', '2020-12-13', '2020-12-14',\n",
      "       ...\n",
      "       '2022-04-22', '2022-04-22', '2022-04-22', '2022-04-22', '2022-04-23',\n",
      "       '2022-04-25', '2022-04-25', '2022-04-25', '2022-04-25', '2022-04-25'],\n",
      "      dtype='object', length=2220)\n"
     ]
    }
   ],
   "source": [
    "index = graph_df.index\n",
    "print(index)"
   ]
  },
  {
   "cell_type": "code",
   "execution_count": 14,
   "id": "2cf89a1e",
   "metadata": {},
   "outputs": [
    {
     "name": "stderr",
     "output_type": "stream",
     "text": [
      "No handles with labels found to put in legend.\n"
     ]
    },
    {
     "data": {
      "text/plain": [
       "[<matplotlib.lines.Line2D at 0x2b38f78ec40>]"
      ]
     },
     "execution_count": 14,
     "metadata": {},
     "output_type": "execute_result"
    },
    {
     "data": {
      "text/plain": [
       "<Figure size 1080x1440 with 0 Axes>"
      ]
     },
     "metadata": {},
     "output_type": "display_data"
    },
    {
     "data": {
      "image/png": "[encoded data removed]",
      "text/plain": [
       "<Figure size 432x288 with 2 Axes>"
      ]
     },
     "metadata": {
      "needs_background": "light"
     },
     "output_type": "display_data"
    }
   ],
   "source": [
    "plt.figure(figsize=(15,20))\n",
    "# Data for plotting\n",
    "x = index\n",
    "# Creating 6 subplots and unpacking the output array immediately\n",
    "fig, (ax2, ax3) = plt.subplots(2,1)\n",
    "\n",
    "ax2.plot(x, graph_df['Covid Confirmed'], color=\"orange\")\n",
    "ax2.plot(x, graph_df['Covid Death'], color=\"blue\")\n",
    "\n",
    "ax3.legend(fancybox=True, framealpha=1, shadow=True, borderpad=1)\n",
    "ax3.plot(x, graph_df['Canadian high'], color=\"Blue\")\n",
    "# transposed_df\n",
    "#The plot below shows that covid negatively impacted stock prices of Royal Bank of Canada. As the number of deaths and cases increases, stock prices dropped.\n",
    "#This means people were less willing to trade stocks as a result of the uncertainties covid. "
   ]
  },
  {
   "cell_type": "code",
   "execution_count": null,
   "id": "83c531b1",
   "metadata": {},
   "outputs": [
    {
     "data": {
      "text/plain": [
       "[<matplotlib.lines.Line2D at 0x2b3902b0a90>]"
      ]
     },
     "execution_count": 15,
     "metadata": {},
     "output_type": "execute_result"
    }
   ],
   "source": [
    "fig, (ax2, ax3) = plt.subplots(2,1)\n",
    "ax2.plot(x, graph_df['Covid Confirmed'], color=\"orange\")\n",
    "ax2.plot(x, graph_df['Covid Death'], color=\"blue\")\n",
    "\n",
    "ax3.plot(x, graph_df['American high'], color=\"green\")\n",
    "# On the other hand, the stock price of Google steadily increased despite covid outbreak.\n",
    "# it dropped for a bit but covid had almost no negative impact on Google Stocks. "
   ]
  },
  {
   "cell_type": "code",
   "execution_count": 15,
   "id": "b8eff278",
   "metadata": {},
   "outputs": [
    {
     "data": {
      "text/plain": [
       "[<matplotlib.lines.Line2D at 0x1e8b6ff5670>]"
      ]
     },
     "execution_count": 15,
     "metadata": {},
     "output_type": "execute_result"
    },
    {
     "data": {
      "image/png": "[encoded data removed]",
      "text/plain": [
       "<Figure size 432x288 with 2 Axes>"
      ]
     },
     "metadata": {
      "needs_background": "light"
     },
     "output_type": "display_data"
    }
   ],
   "source": [
    "fig, (ax2, ax3) = plt.subplots(2,1)\n",
    "ax2.plot(x, graph_df['Covid Confirmed'], color=\"orange\")\n",
    "ax2.plot(x, graph_df['Covid Death'], color=\"blue\")\n",
    "\n",
    "ax3.plot(x, graph_df['Metal high'], color=\"green\")\n",
    "# We again see here that despite covid affecting stock prices, it went up at one of the peak moments of covid spread before steadily decreasing."
   ]
  },
  {
   "cell_type": "code",
   "execution_count": 16,
   "id": "dbbcd1ef",
   "metadata": {},
   "outputs": [
    {
     "data": {
      "text/plain": [
       "[<matplotlib.lines.Line2D at 0x1e8b8ac51f0>]"
      ]
     },
     "execution_count": 16,
     "metadata": {},
     "output_type": "execute_result"
    },
    {
     "data": {
      "image/png": "[encoded data removed]",
      "text/plain": [
       "<Figure size 432x288 with 2 Axes>"
      ]
     },
     "metadata": {
      "needs_background": "light"
     },
     "output_type": "display_data"
    }
   ],
   "source": [
    "fig, (ax2, ax3) = plt.subplots(2,1)\n",
    "ax2.plot(x, graph_df['Covid Confirmed'], color=\"orange\")\n",
    "ax2.plot(x, graph_df['Covid Death'], color=\"blue\")\n",
    "\n",
    "ax3.plot(x, graph_df['Real Estate high'], color=\"green\")\n",
    "# We can see a downward trend of stock prices as covid increased.\n",
    "# People were afraid to commit their money into real estate thus crashing its stock prices.\n",
    "# making houses available at cheaper prices yet less people confident to invest their money in it"
   ]
  },
  {
   "cell_type": "code",
   "execution_count": 17,
   "id": "14261553",
   "metadata": {},
   "outputs": [
    {
     "data": {
      "text/plain": [
       "[<matplotlib.lines.Line2D at 0x1e8b87db280>]"
      ]
     },
     "execution_count": 17,
     "metadata": {},
     "output_type": "execute_result"
    },
    {
     "data": {
      "image/png": "[encoded data removed]",
      "text/plain": [
       "<Figure size 432x288 with 2 Axes>"
      ]
     },
     "metadata": {
      "needs_background": "light"
     },
     "output_type": "display_data"
    }
   ],
   "source": [
    "fig, (ax2, ax3) = plt.subplots(2,1)\n",
    "ax2.plot(x, graph_df['Covid Confirmed'], color=\"orange\")\n",
    "ax2.plot(x, graph_df['Covid Death'], color=\"blue\")\n",
    "\n",
    "ax3.plot(x, graph_df['Travel high'], color=\"green\")\n",
    "# Lastly, stock prices for travel experienced some fluctuations between high,low, stable as covid cases increased."
   ]
  }
 ],
 "metadata": {
  "kernelspec": {
   "display_name": "Python 3 (ipykernel)",
   "language": "python",
   "name": "python3"
  },
  "language_info": {
   "codemirror_mode": {
    "name": "ipython",
    "version": 3
   },
   "file_extension": ".py",
   "mimetype": "text/x-python",
   "name": "python",
   "nbconvert_exporter": "python",
   "pygments_lexer": "ipython3",
   "version": "3.9.7"
  }
 },
 "nbformat": 4,
 "nbformat_minor": 5
}
